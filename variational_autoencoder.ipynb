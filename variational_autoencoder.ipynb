{
 "cells": [
  {
   "cell_type": "markdown",
   "metadata": {},
   "source": [
    "## A Bayesian autoencoder"
   ]
  },
  {
   "cell_type": "markdown",
   "metadata": {},
   "source": [
    "### How the autoencoder works\n",
    "\n",
    "The autoencoder attempts to approximate the posterior distribution\n",
    "$$p(z | x) \\propto p(x | z) p(z)$$\n",
    "Where $x$ is a vector representing the pixels of an image, and $z$ is a latent variable (i.e. it has its own probability distribution) that represents an encoding. Given a prior $p(z)$ for the encoding distribution, we want to be able to define the distribution of the encoding for a given image $p(z | x)$.\n",
    "\n",
    "As a prior for $z$, we assume that the elements of the $z$ vector (assumed by default in the `VariationalAE` below to have 50 dimensions) are standard normal-distributed. Given a draw from the $z$ distribution, each element of $x$ (representing a single pixel) is drawn from a Bernoulli distribution with probability parameter determined by the interaction between $z$ and the weights of the `Decoder` neural network. That is, the conditional distribution $p(x | z)$ implicitly has the weights of the `Decoder` network as fixed parameters. The weights of the `Decoder` network are themselves set by what amounts to maximum likelihood estimation (the `Decoder` neural network is not fully Bayesian).\n",
    "\n",
    "Because the $z$ distribution has many dimensions, it is difficult to fully explore the posterior using a method like MCMC, so we use variational inference instead. The idea is to use a variational distribution $q(z)$ (defined by the `guide` method of the `VariationalAE` class) to approximate $p(z | x)$. Here the variational distribution is a multivariate normal distribution over the $z$ vector, similar to the prior for $z$, but with the difference that the means and variances of each element of $z$ are determined as outputs from the `Encoder` neural network. The idea behind the variational inference is to set the parameters of the `Encoder` neural network so as to minimize the KL divergence between the variational distribution $q(z)$ and the posterior $p(z | x)$ -- in reality the optimizer code actually works to maximize the \"evidence lower bound\" (a.k.a. ELBO) defined as $\\text{E}_{q}[\\log p(x, z) - \\log q(z)]$, although this is equivalent to minimizing the KL divergence between $q(z)$ and $q(z|x)$. To fit the model, we essentially carry out stochastic gradient ascent over the parameters of the variational distribution (the `Encoder`). \n",
    "\n",
    "\n",
    "#### What is this good for?\n",
    "\n",
    "An autoencoder is used learn a lower-dimensional representation for data. Here, the input images from the MNIST data set have $28 \\times 28 = 284$ dimensions, while the default encoding dimension is 50. Because the encoding space in this model is treated as a random vector (in contrast to a traditional, non-Bayesian, autoencoder where the encodings are fixed given the input data), this autoencoder allows us to get a sense of the uncertainty in the encodings: if, after fitting the model, we encode and then decode a given image, we'll get an image similar to the original, and if we do it again, we'll get a slightly different image -- this is because we're effectively drawing decoded images based on the posterior distribution of the encodings. Example input and output images are shown below. Ideally, if we have enough training data and the encoder we use is sufficently versatile, the variance of the encodings should be very low."
   ]
  },
  {
   "cell_type": "code",
   "execution_count": 1,
   "metadata": {},
   "outputs": [],
   "source": [
    "import torch\n",
    "from torch import nn\n",
    "\n",
    "import pyro\n",
    "import pyro.distributions as dist\n",
    "\n",
    "from torchvision import datasets, transforms\n",
    "\n",
    "import numpy as np\n",
    "import matplotlib.pyplot as plt\n",
    "from seaborn import kdeplot"
   ]
  },
  {
   "cell_type": "code",
   "execution_count": 2,
   "metadata": {},
   "outputs": [],
   "source": [
    "# Create loaders for train and test data sets\n",
    "train_loader = torch.utils.data.DataLoader(\n",
    "        datasets.MNIST('mnist-data/', train=True, download=True,\n",
    "                       transform=transforms.Compose([transforms.ToTensor(),])),\n",
    "        batch_size=64, shuffle=True)\n",
    "\n",
    "test_loader = torch.utils.data.DataLoader(\n",
    "        datasets.MNIST('mnist-data/', train=False, transform=transforms.Compose([transforms.ToTensor(),])\n",
    "                       ),\n",
    "        batch_size=64)\n",
    "\n",
    "IMAGE_DIM = 28"
   ]
  },
  {
   "cell_type": "code",
   "execution_count": 3,
   "metadata": {},
   "outputs": [],
   "source": [
    "# start by defining the decoder and encoder neural networks\n",
    "\n",
    "class Decoder(nn.Module):\n",
    "    \"\"\"Takes an encoding and outputs a [flat] image vector\n",
    "    \"\"\"\n",
    "    def __init__(self, enc_dim, hidden_dim):\n",
    "        super().__init__()\n",
    "        # set up linear transformations\n",
    "        self.lin1 = nn.Linear(enc_dim, hidden_dim)\n",
    "        self.lin2 = nn.Linear(hidden_dim, IMAGE_DIM**2)\n",
    "        # set up nonlinearities\n",
    "        self.relu = nn.ReLU()\n",
    "        self.sigmoid = nn.Sigmoid()\n",
    "    \n",
    "    def forward(self, enc):\n",
    "        hidden = self.relu(self.lin1(enc))\n",
    "        return self.sigmoid(self.lin2(hidden))\n",
    "    \n",
    "    \n",
    "class Encoder(nn.Module):\n",
    "    \"\"\"Takes a [flat] image vector and returns loc and scale for encoding\n",
    "    \"\"\"\n",
    "    def __init__(self, enc_dim, hidden_dim):\n",
    "        super().__init__()\n",
    "        # set up linear transformations\n",
    "        self.lin1 = nn.Linear(IMAGE_DIM**2, hidden_dim)\n",
    "        self.lin2a = nn.Linear(hidden_dim, enc_dim)  # for loc\n",
    "        self.lin2b = nn.Linear(hidden_dim, enc_dim)  # for scale\n",
    "        # set up nonlinearity\n",
    "        self.relu = nn.ReLU()\n",
    "    \n",
    "    def forward(self, images):\n",
    "        # flatten images\n",
    "        images = images.view(-1, IMAGE_DIM**2)\n",
    "        # transform\n",
    "        hidden = self.relu(self.lin1(images))\n",
    "        enc_loc = self.lin2a(hidden)\n",
    "        enc_scale = torch.exp(self.lin2b(hidden))\n",
    "        return enc_loc, enc_scale\n",
    "    \n",
    "# now define the variational Bayesian autoencoder model\n",
    "class VariationalAE(nn.Module):\n",
    "    \"\"\"Variational auto-encoder using above defined Decoder and Encoder\n",
    "    \"\"\"\n",
    "    def __init__(self, enc_dim=50, hidden_dim=400):\n",
    "        super().__init__()\n",
    "        # create encoder and decoder instances\n",
    "        self.encoder = Encoder(enc_dim, hidden_dim)\n",
    "        self.decoder = Decoder(enc_dim, hidden_dim)\n",
    "        # save encoding dimension\n",
    "        self.enc_dim = enc_dim\n",
    "        # create spot for svi object (for model fit and evaluation)\n",
    "        self.svi = None\n",
    "    \n",
    "    def model(self, images):\n",
    "        \"\"\"Represents the model p(x|z) p(z), x is the observed image, z is the encoding\n",
    "        The p(x|z) is based on the Decoder neural net with z as inputs\n",
    "        \"\"\"\n",
    "        # register decoder module with Pyro\n",
    "        pyro.module('decoder', self.decoder)\n",
    "        with pyro.plate('data', images.shape[0]):\n",
    "            # set parameters for p(z) prior\n",
    "            # prior will be multivariate standard normal\n",
    "            enc_loc = torch.zeros(images.shape[0], self.enc_dim)\n",
    "            enc_scale = torch.ones(images.shape[0], self.enc_dim)\n",
    "            # sample from prior distribution p(z)\n",
    "            enc = pyro.sample('enc', dist.Normal(enc_loc, enc_scale).to_event(1))\n",
    "            # decode the sampled encoding\n",
    "            decoded_images = self.decoder.forward(enc)\n",
    "            # observe actual images\n",
    "            pyro.sample('obs', dist.Bernoulli(decoded_images).to_event(1),\n",
    "                        obs=images.view(-1, IMAGE_DIM**2))\n",
    "    \n",
    "    def guide(self, images):\n",
    "        \"\"\"Represents the variational distribution q(z)\n",
    "        The q(z) is essentially the Encoder neural net with given x as inputs,\n",
    "        i.e. z is modeled as conditional on x, so it may be more clear to write it as q(z | x)\n",
    "        \"\"\"\n",
    "        # register encoder module with Pyro\n",
    "        pyro.module('encoder', self.encoder)\n",
    "        with pyro.plate('data', images.shape[0]):\n",
    "            # get loc and scale params for q(z|x) via encoder\n",
    "            enc_loc, enc_scale = self.encoder.forward(images)\n",
    "            # sample from q(z|x)\n",
    "            pyro.sample('enc', dist.Normal(enc_loc, enc_scale).to_event(1))\n",
    "    \n",
    "    def fit(self, train_loader, n_epochs=1, lr=0.001):\n",
    "        \"\"\"Fit the variational distribution to the posterior distribution\n",
    "        Uses Adam gradient descent to maximize ELBO (minimize -ELBO)\n",
    "        \"\"\"\n",
    "        if self.svi is None:\n",
    "            optimizer = pyro.optim.Adam({'lr': lr})\n",
    "            elbo = pyro.infer.Trace_ELBO()\n",
    "            self.svi = pyro.infer.SVI(self.model, self.guide, optimizer, loss=elbo)\n",
    "        train_size = len(train_loader.dataset)\n",
    "        losses = []\n",
    "        for i in range(n_epochs):\n",
    "            loss = 0\n",
    "            for images, _ in train_loader:\n",
    "                loss += self.svi.step(images)\n",
    "            losses.append(loss)\n",
    "            print(f'Epoch {i+1}: loss = {loss / train_size}')\n",
    "        return losses\n",
    "    \n",
    "    def evaluate(self, test_loader):\n",
    "        \"\"\"Calculates loss for the test set\n",
    "        \"\"\"\n",
    "        assert self.svi is not None, 'Model must be fit first'\n",
    "        loss = 0\n",
    "        test_size = len(test_loader.dataset)\n",
    "        for images, _ in test_loader:\n",
    "            loss += self.svi.evaluate_loss(images)\n",
    "        print(f'loss on test set is {loss / test_size}')\n",
    "        return loss\n",
    "    \n",
    "    def reconstruct(self, images):\n",
    "        \"\"\"encodes images then decodes\n",
    "        if the model fit is good, the output should look similar to the input\n",
    "        \"\"\"\n",
    "        with torch.no_grad():\n",
    "            enc_loc, enc_scale = self.encoder.forward(images)\n",
    "            enc = dist.Normal(enc_loc, enc_scale).sample()\n",
    "            decoded_images = self.decoder.forward(enc)\n",
    "        return decoded_images"
   ]
  },
  {
   "cell_type": "code",
   "execution_count": 4,
   "metadata": {},
   "outputs": [
    {
     "name": "stdout",
     "output_type": "stream",
     "text": [
      "Epoch 1: loss = 156.86276189575196\n",
      "Epoch 2: loss = 121.09021224772135\n",
      "Epoch 3: loss = 113.70379174397786\n",
      "Epoch 4: loss = 110.79323036702473\n",
      "Epoch 5: loss = 109.2146690612793\n",
      "Epoch 6: loss = 108.23596494140625\n",
      "Epoch 7: loss = 107.53041954752604\n",
      "Epoch 8: loss = 106.97484426676432\n",
      "Epoch 9: loss = 106.54540688883463\n",
      "Epoch 10: loss = 106.20298552652994\n",
      "Epoch 11: loss = 105.898331254069\n",
      "Epoch 12: loss = 105.59057650349935\n",
      "Epoch 13: loss = 105.36321907552083\n",
      "Epoch 14: loss = 105.2040757466634\n",
      "Epoch 15: loss = 105.0161085917155\n",
      "loss on test set is 104.76613405151367\n"
     ]
    }
   ],
   "source": [
    "N_EPOCHS = 15\n",
    "pyro.clear_param_store()\n",
    "\n",
    "vae = VariationalAE()\n",
    "train_losses = vae.fit(train_loader, n_epochs=N_EPOCHS)\n",
    "test_loss = vae.evaluate(test_loader)"
   ]
  },
  {
   "cell_type": "markdown",
   "metadata": {},
   "source": [
    "### Exploring the posterior distribution\n",
    "\n",
    "Below I've shown what happens if we encode and then decode images using the fitted model. I've plotted multiple outputs for each input; you can see that each input is slightly different."
   ]
  },
  {
   "cell_type": "code",
   "execution_count": 5,
   "metadata": {},
   "outputs": [
    {
     "data": {
      "image/png": "[encoded data removed]",
      "text/plain": [
       "<Figure size 432x288 with 1 Axes>"
      ]
     },
     "metadata": {
      "needs_background": "light"
     },
     "output_type": "display_data"
    },
    {
     "data": {
      "image/png": "[encoded data removed]",
      "text/plain": [
       "<Figure size 864x288 with 3 Axes>"
      ]
     },
     "metadata": {
      "needs_background": "light"
     },
     "output_type": "display_data"
    },
    {
     "data": {
      "image/png": "[encoded data removed]",
      "text/plain": [
       "<Figure size 432x288 with 1 Axes>"
      ]
     },
     "metadata": {
      "needs_background": "light"
     },
     "output_type": "display_data"
    },
    {
     "data": {
      "image/png": "[encoded data removed]",
      "text/plain": [
       "<Figure size 864x288 with 3 Axes>"
      ]
     },
     "metadata": {
      "needs_background": "light"
     },
     "output_type": "display_data"
    }
   ],
   "source": [
    "# Reconstruct an image to see how good the encoding is\n",
    "images, _ = next(iter(test_loader))\n",
    "\n",
    "# Look at the first two images in the test set\n",
    "for i in range(2):\n",
    "    plt.imshow(images[i].squeeze(), cmap='gray')\n",
    "    plt.show()\n",
    "    # run the reconstruct multiple times to show the stochastic nature of the encoder\n",
    "    fig, axs = plt.subplots(1, 3, figsize=(12, 4))\n",
    "    for j in range(3):\n",
    "        reconstructed_image = vae.reconstruct(images[i]).view(-1, IMAGE_DIM, IMAGE_DIM)\n",
    "        axs[j].imshow(reconstructed_image.squeeze(), cmap='gray')\n",
    "    plt.show()"
   ]
  },
  {
   "cell_type": "markdown",
   "metadata": {},
   "source": [
    "We can also look directly at the distribution of the encoding random vector. Below I show posterior distributions for the first five dimensions of the encoding space. In a deterministic autoencoder, these would not have distributions -- they would be fixed maximum likelihood estimates."
   ]
  },
  {
   "cell_type": "code",
   "execution_count": 6,
   "metadata": {},
   "outputs": [
    {
     "data": {
      "image/png": "[encoded data removed]",
      "text/plain": [
       "<Figure size 432x288 with 1 Axes>"
      ]
     },
     "metadata": {
      "needs_background": "light"
     },
     "output_type": "display_data"
    }
   ],
   "source": [
    "# Show the distribution of the encodings for example input\n",
    "\n",
    "# Draw from the posterior distribution with the first test image as input\n",
    "predictive = pyro.infer.Predictive(vae.model, guide=vae.guide, num_samples=1000,\n",
    "                                   return_sites=('enc',))\n",
    "with torch.no_grad():\n",
    "    encodings = predictive(images[0])['enc']\n",
    "\n",
    "# Create kernel density plots for the first 5 encoding dimensions\n",
    "for i in range(5):\n",
    "    kdeplot(np.array(encodings[:,0,i]), label=f'z[{i+1}]')\n",
    "    plt.legend()\n",
    "plt.show()"
   ]
  }
 ],
 "metadata": {
  "kernelspec": {
   "display_name": "Python 3",
   "language": "python",
   "name": "python3"
  },
  "language_info": {
   "codemirror_mode": {
    "name": "ipython",
    "version": 3
   },
   "file_extension": ".py",
   "mimetype": "text/x-python",
   "name": "python",
   "nbconvert_exporter": "python",
   "pygments_lexer": "ipython3",
   "version": "3.7.4"
  }
 },
 "nbformat": 4,
 "nbformat_minor": 2
}
