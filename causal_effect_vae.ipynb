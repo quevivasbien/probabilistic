{
 "cells": [
  {
   "cell_type": "markdown",
   "metadata": {},
   "source": [
    "# Causal effect variational autoencoder\n",
    "\n",
    "The idea here is based on C. Louizos, U. Shalit, J. Mooij, D. Sontag, R. Zemel, M. Welling (2017).\n",
    "    \"Causal Effect Inference with Deep Latent-Variable Models.\"\n",
    "    http://papers.nips.cc/paper/7223-causal-effect-inference-with-deep-latent-variable-models.pdf\n",
    "\n",
    "## What is this for?\n",
    "\n",
    "Suppose we observe some outcomes $y$ that are directly dependent upon an observed (not exogenous) intervention/treatment $t$ and in some way related to some observed features $x$. If we want to determine the effect of $t$ on $y$, a simple approach is to simply assume that $y$ is directly related to $t$ and $x$, e.g. by the linear model\n",
    "$$y_i = \\alpha + \\sum \\beta_j x_{i,j} + \\gamma t_i + \\epsilon_i$$\n",
    "and then assume that the average treatment effect of $t$ on $y$ is the estimated parameter $\\hat{\\gamma}$. However, this ignores the fact that there are likely unobserved confounding variables that affect $x$, $y$, and $t$ and would bias an estimate that does not take them in to account. If we label the unobserved confounding variables as $z$, we can model $x$ and $t$ as random vectors dependent on $z$, and $x$ as a random vector dependent on $z$ and $t$. That is,\n",
    "$$x \\sim p(x | z)$$\n",
    "$$t \\sim p(t | z)$$\n",
    "$$y \\sim p(y | z, t)$$\n",
    "If we know these distributions and the distribution of $z$ we can then estimate the individual treatment effect\n",
    "$$ITE(x) = \\text{E} [y | x, t=1] - \\text{E} [y | x, t=0]$$\n",
    "and the average treatment effect\n",
    "$$ATE = \\text{E}_x [ITE(x)].$$\n",
    "We don't know the exact form of the confounding variables $z$, nor do we know the form of the distributions of $x$, $t$ and $y$, so we have to take a clever approach to approximate them: we assume $z$ to be some random vector of reasonably high dimension (high enough to capture a range of possible confounding factors), over which we set a prior probability distribution. We then assume that the distributions for our other variables take the form\n",
    "$$x \\sim p(x | f_x(z))$$\n",
    "$$t \\sim p(t | f_t(z))$$\n",
    "$$y \\sim p(y | (1-t) f_{y0}(z) + t f_{y1}(z))$$\n",
    "where each of $f_x$, $f_t$, $f_{y0}$, and $f_{y1}$ are neural networks that take the $z$ as inputs and output parameters for some flexible probability distribution (e.g. they could output location and scale parameters for a multivariate normal distribution). We do this because we do not know the proper form for the distributions in question, but neural networks provide a very flexible approximation to an arbitrary nonlinear function, with the only downside being that we need a rather large amount of data to fit them accurately. Notice that the distribution for $y$ assumes different parameters depending on whether the datum in question has $t=1$ or $t=0$ (received the treatment or not).\n",
    "\n",
    "To explore the posterior distribution for $z$ (which, again, we need to do in order to estimate the treatment effect), sequential Monte Carlo methods are probably not going to work since there are so many parameters involved, so we use variational inference instead. We define variational distributions for each random variable, with the form of the variational distributions analogous to the above modeled distributions (i.e. we again use neural networks to parameterize the distributions). We can then fit the model by simultaneously fitting the component neural networks and minimizing the \"distance\" between the variational distribution and the true posterior distribution (by effectively minizing the KL divergence between the two, or equivalently maximizing the ELBO -- the form of the ELBO used here is a little different that what is typically used in other variational inference problems; see the linked paper for details)."
   ]
  },
  {
   "cell_type": "code",
   "execution_count": 1,
   "metadata": {},
   "outputs": [],
   "source": [
    "import torch\n",
    "import pyro\n",
    "import pyro.distributions as dist\n",
    "from pyro.contrib.cevae import CEVAE\n",
    "\n",
    "import statsmodels.api as sm\n",
    "from statsmodels.miscmodels.tmodel import TLinearModel\n",
    "import numpy as np\n",
    "import matplotlib.pyplot as plt\n",
    "from seaborn import kdeplot"
   ]
  },
  {
   "cell_type": "markdown",
   "metadata": {},
   "source": [
    "We can test this out on a toy data set:"
   ]
  },
  {
   "cell_type": "code",
   "execution_count": 2,
   "metadata": {},
   "outputs": [
    {
     "name": "stdout",
     "output_type": "stream",
     "text": [
      "Average treatment effect is 0.49032869935035706\n"
     ]
    }
   ],
   "source": [
    "# Create a toy data set -- the choice of variables here is somewhat arbitrary;\n",
    "    # it's just meant to provide a reasonably complicated example problem\n",
    "\n",
    "N_DATA = 1000\n",
    "N_FEATURES = 5\n",
    "pyro.set_rng_seed(152)\n",
    "\n",
    "def gen_data():\n",
    "    # Generate confounding variables z\n",
    "    z = dist.Normal(0, 1).sample([N_DATA, 3])\n",
    "    # Generate observed features x as a function of z\n",
    "    x = torch.empty([N_DATA, N_FEATURES])\n",
    "    for i in range(N_FEATURES):\n",
    "        x[:,i] = dist.Normal(i*z[:,0] + 2*z[:,1] + 3*z[:,2], z.mean(axis=1)).sample()\n",
    "    # Generate treatments t as a function of z\n",
    "    t = dist.Bernoulli(logits=1+z.mean(axis=1)).sample()\n",
    "    # Generate outcomes as a function of z and t\n",
    "    y = dist.StudentT(df=5, loc=z[:,0] - z[:,1]**3 + 0.5*t*z[:,2]**2, scale=torch.abs(z[:,0]+1)).sample()\n",
    "    return z, x, t, y\n",
    "\n",
    "z, x, t, y = gen_data()\n",
    "\n",
    "# estimate true individual/average treatment effect\n",
    "t01 = torch.tensor([[0], [1]]) \n",
    "y_t0, y_t1 = dist.StudentT(df=5, loc=z[:,0] - z[:,1]**3 + 0.5*t01*z[:,2]**2,\n",
    "                           scale=torch.abs(z[:,0]+1)).mean\n",
    "ite = y_t1 - y_t0\n",
    "ate = ite.mean()  # note we can actually compute exact ate here; it's 0.5\n",
    "print('Average treatment effect is', ate.item())"
   ]
  },
  {
   "cell_type": "markdown",
   "metadata": {},
   "source": [
    "We can try estimating the treatment effect using a linear regression:"
   ]
  },
  {
   "cell_type": "code",
   "execution_count": 3,
   "metadata": {},
   "outputs": [
    {
     "name": "stdout",
     "output_type": "stream",
     "text": [
      "                            OLS Regression Results                            \n",
      "==============================================================================\n",
      "Dep. Variable:                      y   R-squared:                       0.199\n",
      "Model:                            OLS   Adj. R-squared:                  0.194\n",
      "Method:                 Least Squares   F-statistic:                     41.20\n",
      "Date:                Thu, 23 Apr 2020   Prob (F-statistic):           5.85e-45\n",
      "Time:                        10:59:12   Log-Likelihood:                -2825.0\n",
      "No. Observations:                1000   AIC:                             5664.\n",
      "Df Residuals:                     993   BIC:                             5698.\n",
      "Df Model:                           6                                         \n",
      "Covariance Type:            nonrobust                                         \n",
      "==============================================================================\n",
      "                 coef    std err          t      P>|t|      [0.025      0.975]\n",
      "------------------------------------------------------------------------------\n",
      "const         -0.1357      0.249     -0.545      0.586      -0.624       0.352\n",
      "x1            -0.1831      0.149     -1.229      0.219      -0.476       0.109\n",
      "x2            -0.5429      0.196     -2.764      0.006      -0.928      -0.157\n",
      "x3            -0.2936      0.205     -1.429      0.153      -0.697       0.110\n",
      "x4             0.0029      0.189      0.015      0.988      -0.368       0.374\n",
      "x5             0.5745      0.149      3.860      0.000       0.282       0.867\n",
      "x6             0.6428      0.296      2.171      0.030       0.062       1.224\n",
      "==============================================================================\n",
      "Omnibus:                      615.296   Durbin-Watson:                   1.973\n",
      "Prob(Omnibus):                  0.000   Jarque-Bera (JB):            33612.794\n",
      "Skew:                          -2.096   Prob(JB):                         0.00\n",
      "Kurtosis:                      31.092   Cond. No.                         26.5\n",
      "==============================================================================\n",
      "\n",
      "Warnings:\n",
      "[1] Standard Errors assume that the covariance matrix of the errors is correctly specified.\n"
     ]
    }
   ],
   "source": [
    "# Assemble matrix of features\n",
    "X = np.concatenate((np.ones(N_DATA).reshape(-1, 1), np.array(x), np.array(t).reshape(-1, 1)), axis=1)\n",
    "# Fit with statsmodels\n",
    "reg_fit = sm.OLS(np.array(y), X).fit()\n",
    "print(reg_fit.summary())"
   ]
  },
  {
   "cell_type": "markdown",
   "metadata": {},
   "source": [
    "Here the coefficient for the $t$ (`x6` in the table above) is not statistically significant; a linear regression fails to separate the effects of the treatment from the other observed variables. Part of this is just due to a misspecification problem: OLS assumes that errors are normally distributed, but here errors are Student's t-distributed. We can address this by estimating the model with assumed Student's t errors, using maximum likelihood estimation:"
   ]
  },
  {
   "cell_type": "code",
   "execution_count": 4,
   "metadata": {},
   "outputs": [
    {
     "name": "stdout",
     "output_type": "stream",
     "text": [
      "Optimization terminated successfully.\n",
      "         Current function value: 2.511776\n",
      "         Iterations: 36\n",
      "         Function evaluations: 40\n",
      "         Gradient evaluations: 40\n",
      "                             TLinearModel Results                             \n",
      "==============================================================================\n",
      "Dep. Variable:                      y   Log-Likelihood:                -2511.8\n",
      "Model:                   TLinearModel   AIC:                             5038.\n",
      "Method:            Maximum Likelihood   BIC:                             5072.\n",
      "Date:                Thu, 23 Apr 2020                                         \n",
      "Time:                        10:59:12                                         \n",
      "No. Observations:                1000                                         \n",
      "Df Residuals:                     993                                         \n",
      "Df Model:                           6                                         \n",
      "==============================================================================\n",
      "                 coef    std err          z      P>|z|      [0.025      0.975]\n",
      "------------------------------------------------------------------------------\n",
      "const          0.0536      0.130      0.414      0.679      -0.200       0.308\n",
      "x1            -0.3267      0.086     -3.805      0.000      -0.495      -0.158\n",
      "x2            -0.1412      0.113     -1.245      0.213      -0.363       0.081\n",
      "x3            -0.1222      0.119     -1.030      0.303      -0.355       0.110\n",
      "x4             0.0902      0.109      0.830      0.407      -0.123       0.303\n",
      "x5             0.3022      0.080      3.764      0.000       0.145       0.460\n",
      "x6             0.2735      0.149      1.832      0.067      -0.019       0.566\n",
      "df             1.7435      0.141     12.355      0.000       1.467       2.020\n",
      "scale          1.5970      0.081     19.832      0.000       1.439       1.755\n",
      "==============================================================================\n"
     ]
    }
   ],
   "source": [
    "regT_fit = TLinearModel(np.array(y), X).fit(method='bfgs')\n",
    "print(regT_fit.summary())"
   ]
  },
  {
   "cell_type": "markdown",
   "metadata": {},
   "source": [
    "This model estimates a positive effect size, but it's still not statistically significant at any meaningful level. The other disadvantage is that we only get an estimate of the average effect size, not the individual effect sizes. Let's see how the causal effect variational autoencoder works here (using the contributed `CEVAE` class from the Pyro project):"
   ]
  },
  {
   "cell_type": "code",
   "execution_count": 5,
   "metadata": {},
   "outputs": [
    {
     "name": "stderr",
     "output_type": "stream",
     "text": [
      "INFO \t Training with 10 minibatches per epoch\n",
      "INFO \t Evaluating 1 minibatches\n"
     ]
    },
    {
     "name": "stdout",
     "output_type": "stream",
     "text": [
      "estimated ATE: 0.3664555251598358\n"
     ]
    }
   ],
   "source": [
    "# create and train the CEVAE model\n",
    "LATENT_DIM = 10  # dimension of representation of confounders\n",
    "HIDDEN_DIM = 100  # size of hidden layers in neural nets\n",
    "N_LAYERS = 3  # number of layers in neural nets\n",
    "N_EPOCHS = 150  # number of full training loops through the data\n",
    "\n",
    "pyro.clear_param_store()\n",
    "cevae = CEVAE(\n",
    "    feature_dim=N_FEATURES,\n",
    "    outcome_dist='studentt',\n",
    "    latent_dim=LATENT_DIM,\n",
    "    hidden_dim=HIDDEN_DIM,\n",
    "    num_layers=N_LAYERS\n",
    ")\n",
    "cevae.fit(x, t, y, num_epochs=N_EPOCHS)\n",
    "# estimate individual treatment effects and average treatment effect\n",
    "ite_estimate = cevae.ite(x)\n",
    "ate_estimate = ite_estimate.mean()\n",
    "print('estimated ATE:', ate_estimate.item())"
   ]
  },
  {
   "cell_type": "markdown",
   "metadata": {},
   "source": [
    "The estimated average treatment effect is lower than the true ATE. However, the sign is correct and the magnitude is about right. We can look at the distributions of the true and estimated treatment effects to see how similar the two are:"
   ]
  },
  {
   "cell_type": "code",
   "execution_count": 6,
   "metadata": {},
   "outputs": [
    {
     "data": {
      "image/png": "[encoded data removed]",
      "text/plain": [
       "<Figure size 432x288 with 1 Axes>"
      ]
     },
     "metadata": {
      "needs_background": "light"
     },
     "output_type": "display_data"
    }
   ],
   "source": [
    "kdeplot(np.array(ite), label='true ITE distribution')\n",
    "kdeplot(np.array(ite_estimate), label='estimated ITE distribution')\n",
    "plt.title('Comparison of true and estimated ITE distributions')\n",
    "plt.show()"
   ]
  },
  {
   "cell_type": "markdown",
   "metadata": {},
   "source": [
    "This is really not all too bad given that this model did not assume any information about the form of the confounders and their relationship with the observed variables. Theoretically, given enough data and sufficiently sophisticated parameterization neural nets, it should be possible to get very good predictions of the treatment effect.\n",
    "\n",
    "One question we might ask is how confident this estimate is. The $z$ are estimated as random variables, so we can re-calculate the estimated ATE multiple times and see how much it varies."
   ]
  },
  {
   "cell_type": "code",
   "execution_count": 7,
   "metadata": {
    "scrolled": true
   },
   "outputs": [
    {
     "name": "stderr",
     "output_type": "stream",
     "text": [
      "INFO \t Evaluating 1 minibatches\n",
      "INFO \t Evaluating 1 minibatches\n",
      "INFO \t Evaluating 1 minibatches\n",
      "INFO \t Evaluating 1 minibatches\n",
      "INFO \t Evaluating 1 minibatches\n",
      "INFO \t Evaluating 1 minibatches\n",
      "INFO \t Evaluating 1 minibatches\n",
      "INFO \t Evaluating 1 minibatches\n",
      "INFO \t Evaluating 1 minibatches\n",
      "INFO \t Evaluating 1 minibatches\n",
      "INFO \t Evaluating 1 minibatches\n",
      "INFO \t Evaluating 1 minibatches\n",
      "INFO \t Evaluating 1 minibatches\n",
      "INFO \t Evaluating 1 minibatches\n",
      "INFO \t Evaluating 1 minibatches\n",
      "INFO \t Evaluating 1 minibatches\n",
      "INFO \t Evaluating 1 minibatches\n",
      "INFO \t Evaluating 1 minibatches\n",
      "INFO \t Evaluating 1 minibatches\n",
      "INFO \t Evaluating 1 minibatches\n",
      "INFO \t Evaluating 1 minibatches\n",
      "INFO \t Evaluating 1 minibatches\n",
      "INFO \t Evaluating 1 minibatches\n",
      "INFO \t Evaluating 1 minibatches\n",
      "INFO \t Evaluating 1 minibatches\n",
      "INFO \t Evaluating 1 minibatches\n",
      "INFO \t Evaluating 1 minibatches\n",
      "INFO \t Evaluating 1 minibatches\n",
      "INFO \t Evaluating 1 minibatches\n",
      "INFO \t Evaluating 1 minibatches\n",
      "INFO \t Evaluating 1 minibatches\n",
      "INFO \t Evaluating 1 minibatches\n",
      "INFO \t Evaluating 1 minibatches\n",
      "INFO \t Evaluating 1 minibatches\n",
      "INFO \t Evaluating 1 minibatches\n",
      "INFO \t Evaluating 1 minibatches\n",
      "INFO \t Evaluating 1 minibatches\n",
      "INFO \t Evaluating 1 minibatches\n",
      "INFO \t Evaluating 1 minibatches\n",
      "INFO \t Evaluating 1 minibatches\n",
      "INFO \t Evaluating 1 minibatches\n",
      "INFO \t Evaluating 1 minibatches\n",
      "INFO \t Evaluating 1 minibatches\n",
      "INFO \t Evaluating 1 minibatches\n",
      "INFO \t Evaluating 1 minibatches\n",
      "INFO \t Evaluating 1 minibatches\n",
      "INFO \t Evaluating 1 minibatches\n",
      "INFO \t Evaluating 1 minibatches\n",
      "INFO \t Evaluating 1 minibatches\n",
      "INFO \t Evaluating 1 minibatches\n",
      "INFO \t Evaluating 1 minibatches\n",
      "INFO \t Evaluating 1 minibatches\n",
      "INFO \t Evaluating 1 minibatches\n",
      "INFO \t Evaluating 1 minibatches\n",
      "INFO \t Evaluating 1 minibatches\n",
      "INFO \t Evaluating 1 minibatches\n",
      "INFO \t Evaluating 1 minibatches\n",
      "INFO \t Evaluating 1 minibatches\n",
      "INFO \t Evaluating 1 minibatches\n",
      "INFO \t Evaluating 1 minibatches\n",
      "INFO \t Evaluating 1 minibatches\n",
      "INFO \t Evaluating 1 minibatches\n",
      "INFO \t Evaluating 1 minibatches\n",
      "INFO \t Evaluating 1 minibatches\n",
      "INFO \t Evaluating 1 minibatches\n",
      "INFO \t Evaluating 1 minibatches\n",
      "INFO \t Evaluating 1 minibatches\n",
      "INFO \t Evaluating 1 minibatches\n",
      "INFO \t Evaluating 1 minibatches\n",
      "INFO \t Evaluating 1 minibatches\n",
      "INFO \t Evaluating 1 minibatches\n",
      "INFO \t Evaluating 1 minibatches\n",
      "INFO \t Evaluating 1 minibatches\n",
      "INFO \t Evaluating 1 minibatches\n",
      "INFO \t Evaluating 1 minibatches\n",
      "INFO \t Evaluating 1 minibatches\n",
      "INFO \t Evaluating 1 minibatches\n",
      "INFO \t Evaluating 1 minibatches\n",
      "INFO \t Evaluating 1 minibatches\n",
      "INFO \t Evaluating 1 minibatches\n",
      "INFO \t Evaluating 1 minibatches\n",
      "INFO \t Evaluating 1 minibatches\n",
      "INFO \t Evaluating 1 minibatches\n",
      "INFO \t Evaluating 1 minibatches\n",
      "INFO \t Evaluating 1 minibatches\n",
      "INFO \t Evaluating 1 minibatches\n",
      "INFO \t Evaluating 1 minibatches\n",
      "INFO \t Evaluating 1 minibatches\n",
      "INFO \t Evaluating 1 minibatches\n",
      "INFO \t Evaluating 1 minibatches\n",
      "INFO \t Evaluating 1 minibatches\n",
      "INFO \t Evaluating 1 minibatches\n",
      "INFO \t Evaluating 1 minibatches\n",
      "INFO \t Evaluating 1 minibatches\n",
      "INFO \t Evaluating 1 minibatches\n",
      "INFO \t Evaluating 1 minibatches\n",
      "INFO \t Evaluating 1 minibatches\n",
      "INFO \t Evaluating 1 minibatches\n",
      "INFO \t Evaluating 1 minibatches\n",
      "INFO \t Evaluating 1 minibatches\n"
     ]
    },
    {
     "data": {
      "image/png": "[encoded data removed]",
      "text/plain": [
       "<Figure size 432x288 with 1 Axes>"
      ]
     },
     "metadata": {
      "needs_background": "light"
     },
     "output_type": "display_data"
    }
   ],
   "source": [
    "ate_estimates = np.array([cevae.ite(x, num_samples=10).mean().item() for _ in range(100)])\n",
    "\n",
    "kdeplot(ate_estimates)\n",
    "plt.title('Distribution of ATE estimates')\n",
    "plt.show()"
   ]
  },
  {
   "cell_type": "markdown",
   "metadata": {},
   "source": [
    "A better test might be to generate test sets and calculate the ATE on those sets:"
   ]
  },
  {
   "cell_type": "code",
   "execution_count": 8,
   "metadata": {
    "scrolled": true
   },
   "outputs": [
    {
     "name": "stderr",
     "output_type": "stream",
     "text": [
      "INFO \t Evaluating 1 minibatches\n",
      "INFO \t Evaluating 1 minibatches\n",
      "INFO \t Evaluating 1 minibatches\n",
      "INFO \t Evaluating 1 minibatches\n",
      "INFO \t Evaluating 1 minibatches\n",
      "INFO \t Evaluating 1 minibatches\n",
      "INFO \t Evaluating 1 minibatches\n",
      "INFO \t Evaluating 1 minibatches\n",
      "INFO \t Evaluating 1 minibatches\n",
      "INFO \t Evaluating 1 minibatches\n",
      "INFO \t Evaluating 1 minibatches\n",
      "INFO \t Evaluating 1 minibatches\n",
      "INFO \t Evaluating 1 minibatches\n",
      "INFO \t Evaluating 1 minibatches\n",
      "INFO \t Evaluating 1 minibatches\n",
      "INFO \t Evaluating 1 minibatches\n",
      "INFO \t Evaluating 1 minibatches\n",
      "INFO \t Evaluating 1 minibatches\n",
      "INFO \t Evaluating 1 minibatches\n",
      "INFO \t Evaluating 1 minibatches\n",
      "INFO \t Evaluating 1 minibatches\n",
      "INFO \t Evaluating 1 minibatches\n",
      "INFO \t Evaluating 1 minibatches\n",
      "INFO \t Evaluating 1 minibatches\n",
      "INFO \t Evaluating 1 minibatches\n",
      "INFO \t Evaluating 1 minibatches\n",
      "INFO \t Evaluating 1 minibatches\n",
      "INFO \t Evaluating 1 minibatches\n",
      "INFO \t Evaluating 1 minibatches\n",
      "INFO \t Evaluating 1 minibatches\n",
      "INFO \t Evaluating 1 minibatches\n",
      "INFO \t Evaluating 1 minibatches\n",
      "INFO \t Evaluating 1 minibatches\n",
      "INFO \t Evaluating 1 minibatches\n",
      "INFO \t Evaluating 1 minibatches\n",
      "INFO \t Evaluating 1 minibatches\n",
      "INFO \t Evaluating 1 minibatches\n",
      "INFO \t Evaluating 1 minibatches\n",
      "INFO \t Evaluating 1 minibatches\n",
      "INFO \t Evaluating 1 minibatches\n",
      "INFO \t Evaluating 1 minibatches\n",
      "INFO \t Evaluating 1 minibatches\n",
      "INFO \t Evaluating 1 minibatches\n",
      "INFO \t Evaluating 1 minibatches\n",
      "INFO \t Evaluating 1 minibatches\n",
      "INFO \t Evaluating 1 minibatches\n",
      "INFO \t Evaluating 1 minibatches\n",
      "INFO \t Evaluating 1 minibatches\n",
      "INFO \t Evaluating 1 minibatches\n",
      "INFO \t Evaluating 1 minibatches\n",
      "INFO \t Evaluating 1 minibatches\n",
      "INFO \t Evaluating 1 minibatches\n",
      "INFO \t Evaluating 1 minibatches\n",
      "INFO \t Evaluating 1 minibatches\n",
      "INFO \t Evaluating 1 minibatches\n",
      "INFO \t Evaluating 1 minibatches\n",
      "INFO \t Evaluating 1 minibatches\n",
      "INFO \t Evaluating 1 minibatches\n",
      "INFO \t Evaluating 1 minibatches\n",
      "INFO \t Evaluating 1 minibatches\n",
      "INFO \t Evaluating 1 minibatches\n",
      "INFO \t Evaluating 1 minibatches\n",
      "INFO \t Evaluating 1 minibatches\n",
      "INFO \t Evaluating 1 minibatches\n",
      "INFO \t Evaluating 1 minibatches\n",
      "INFO \t Evaluating 1 minibatches\n",
      "INFO \t Evaluating 1 minibatches\n",
      "INFO \t Evaluating 1 minibatches\n",
      "INFO \t Evaluating 1 minibatches\n",
      "INFO \t Evaluating 1 minibatches\n",
      "INFO \t Evaluating 1 minibatches\n",
      "INFO \t Evaluating 1 minibatches\n",
      "INFO \t Evaluating 1 minibatches\n",
      "INFO \t Evaluating 1 minibatches\n",
      "INFO \t Evaluating 1 minibatches\n",
      "INFO \t Evaluating 1 minibatches\n",
      "INFO \t Evaluating 1 minibatches\n",
      "INFO \t Evaluating 1 minibatches\n",
      "INFO \t Evaluating 1 minibatches\n",
      "INFO \t Evaluating 1 minibatches\n",
      "INFO \t Evaluating 1 minibatches\n",
      "INFO \t Evaluating 1 minibatches\n",
      "INFO \t Evaluating 1 minibatches\n",
      "INFO \t Evaluating 1 minibatches\n",
      "INFO \t Evaluating 1 minibatches\n",
      "INFO \t Evaluating 1 minibatches\n",
      "INFO \t Evaluating 1 minibatches\n",
      "INFO \t Evaluating 1 minibatches\n",
      "INFO \t Evaluating 1 minibatches\n",
      "INFO \t Evaluating 1 minibatches\n",
      "INFO \t Evaluating 1 minibatches\n",
      "INFO \t Evaluating 1 minibatches\n",
      "INFO \t Evaluating 1 minibatches\n",
      "INFO \t Evaluating 1 minibatches\n",
      "INFO \t Evaluating 1 minibatches\n",
      "INFO \t Evaluating 1 minibatches\n",
      "INFO \t Evaluating 1 minibatches\n",
      "INFO \t Evaluating 1 minibatches\n",
      "INFO \t Evaluating 1 minibatches\n",
      "INFO \t Evaluating 1 minibatches\n"
     ]
    },
    {
     "data": {
      "image/png": "[encoded data removed]",
      "text/plain": [
       "<Figure size 432x288 with 1 Axes>"
      ]
     },
     "metadata": {
      "needs_background": "light"
     },
     "output_type": "display_data"
    }
   ],
   "source": [
    "ate_test_estimates = np.empty(100)\n",
    "for i in range(100):\n",
    "    _, x_test, _, _ = gen_data()\n",
    "    ate_test_estimates[i] = cevae.ite(x_test, num_samples=10).mean().item()\n",
    "\n",
    "kdeplot(ate_test_estimates)\n",
    "plt.title('Distribution of ATE estimates on test data')\n",
    "plt.show()"
   ]
  }
 ],
 "metadata": {
  "kernelspec": {
   "display_name": "Python 3",
   "language": "python",
   "name": "python3"
  },
  "language_info": {
   "codemirror_mode": {
    "name": "ipython",
    "version": 3
   },
   "file_extension": ".py",
   "mimetype": "text/x-python",
   "name": "python",
   "nbconvert_exporter": "python",
   "pygments_lexer": "ipython3",
   "version": "3.7.4"
  }
 },
 "nbformat": 4,
 "nbformat_minor": 2
}
