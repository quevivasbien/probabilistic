{
 "cells": [
  {
   "cell_type": "code",
   "execution_count": 1,
   "metadata": {},
   "outputs": [],
   "source": [
    "import matplotlib.pyplot as plt\n",
    "import numpy as np\n",
    "import torch\n",
    "import torch.nn as nn\n",
    "from torch.utils.data import DataLoader\n",
    "\n",
    "import pyro\n",
    "import pyro.distributions as dist\n",
    "from pyro import infer\n",
    "from pyro import optim\n",
    "from pyro.distributions import constraints\n",
    "from pyro.nn import PyroModule, PyroSample\n",
    "\n",
    "from torchvision import datasets, transforms"
   ]
  },
  {
   "cell_type": "code",
   "execution_count": 2,
   "metadata": {},
   "outputs": [],
   "source": [
    "# Create loaders for train and test data sets\n",
    "train_loader = torch.utils.data.DataLoader(\n",
    "        datasets.MNIST('mnist-data/', train=True, download=True,\n",
    "                       transform=transforms.Compose([transforms.ToTensor(),])),\n",
    "        batch_size=64, shuffle=True)\n",
    "\n",
    "test_loader = torch.utils.data.DataLoader(\n",
    "        datasets.MNIST('mnist-data/', train=False, transform=transforms.Compose([transforms.ToTensor(),])\n",
    "                       ),\n",
    "        batch_size=None)"
   ]
  },
  {
   "cell_type": "code",
   "execution_count": 3,
   "metadata": {},
   "outputs": [],
   "source": [
    "class ConvolutionalNN(nn.Module):\n",
    "    \"\"\"A simple convolutional NN using base PyTorch\"\"\"\n",
    "    \n",
    "    def __init__(self, xdim=28, ydim=28, n_classes=10,\n",
    "                 hidden_channels=4, hidden_size=20):\n",
    "        super().__init__()\n",
    "        self.xdim = xdim\n",
    "        self.ydim = ydim\n",
    "        self.hidden_channels = hidden_channels\n",
    "        try:\n",
    "            assert self.xdim % 2 == 0 and self.ydim % 2 == 0\n",
    "        except AssertionError:\n",
    "            raise AssertionError('xdim and ydim must both be even')\n",
    "        self.n_classes = n_classes\n",
    "        # start with convolutional layers\n",
    "        # (1 x xdim x ydim) -> (hidden_channels x xdim x ydim)\n",
    "        self.conv1 = nn.Conv2d(1, self.hidden_channels, kernel_size=3, padding=1)\n",
    "        # (hidden_channels x xdim x ydim) -> (hidden_channels, xdim/2, ydim/2)\n",
    "        self.pool = nn.MaxPool2d(kernel_size=2)\n",
    "        \n",
    "        # next have linear layers\n",
    "        # (hidden_channels x xdim/2 x ydim/2) -> (hidden_size)\n",
    "        self.lin1 = nn.Linear(self.hidden_channels * xdim * ydim // 4, hidden_size)\n",
    "        # Output layer: (hidden_channels) -> (n_classes)\n",
    "        self.lin2 = nn.Linear(hidden_size, n_classes)\n",
    "        \n",
    "    def forward(self, x):\n",
    "        x = nn.functional.relu(self.conv1(x))\n",
    "        x = self.pool(x)\n",
    "        # flatten before linear layers\n",
    "        x = x.view(-1, self.hidden_channels * self.xdim * self.ydim // 4)\n",
    "        x = nn.functional.relu(self.lin1(x))\n",
    "        # Uses log softmax activation; later to be plugged in as logits for Categorical dist\n",
    "        x = nn.functional.log_softmax(self.lin2(x), dim=-1)\n",
    "        return x\n",
    "        \n",
    "        "
   ]
  },
  {
   "cell_type": "code",
   "execution_count": 4,
   "metadata": {},
   "outputs": [],
   "source": [
    "class BayesianCNN(ConvolutionalNN, PyroModule):\n",
    "    \"\"\"Convolutional NN with weights treated as random variables\"\"\"\n",
    "    \n",
    "    def __init__(self, xdim=28, ydim=28, n_classes=10):\n",
    "        super(BayesianCNN, self).__init__(xdim, ydim, n_classes)\n",
    "        # Set standard normal priors on all weights & biases\n",
    "        for param in self.parameters():\n",
    "            param = PyroSample(lambda self: dist.Normal(0, 1).expand(param.shape).to_event(param.dim()))\n",
    "\n",
    "            \n",
    "class BayesianCNNModel(PyroModule):\n",
    "    \"\"\"Model for fitting BayesianCNN with AVI\"\"\"\n",
    "    \n",
    "    def __init__(self, xdim=28, ydim=28, n_classes=10):\n",
    "        super().__init__()\n",
    "        self.bayesianCNN = BayesianCNN(xdim, ydim, n_classes)\n",
    "        print(f'number of parameters is {sum(p.numel() for p in self.bayesianCNN.parameters())}')\n",
    "        self.guide = infer.autoguide.AutoNormal(self)\n",
    "    \n",
    "    def forward(self, X, y=None):\n",
    "        cnn_out = self.bayesianCNN(X)\n",
    "        with pyro.plate('instances', len(X)):\n",
    "            return pyro.sample('obs', dist.Categorical(logits=cnn_out), obs=y)\n",
    "    \n",
    "    def fit(self, loader, autoguide=infer.autoguide.AutoNormal,\n",
    "            optimizer=optim.Adam, optimizer_params={'lr': 0.01}, n_epochs=5):\n",
    "        svi = infer.SVI(self, self.guide, optimizer(optimizer_params), infer.Trace_ELBO())\n",
    "        total_size = len(loader.dataset)\n",
    "        for i in range(n_epochs):\n",
    "            loss = 0\n",
    "            correct = 0\n",
    "            for X, y in loader:\n",
    "                loss += svi.step(X, y)\n",
    "                with torch.no_grad():\n",
    "                    correct += (self.forward(X) == y).sum().item()\n",
    "            print(f'Epoch {i}: loss = {loss:.5f}, accuracy = {correct / total_size:.5f}')\n",
    "    \n",
    "    def predict(self, X, n_samples=100, return_sites=('obs',)):\n",
    "        predictive = infer.Predictive(self, guide=self.guide, num_samples=n_samples,\n",
    "                                               return_sites=return_sites)\n",
    "        return predictive(X)"
   ]
  },
  {
   "cell_type": "code",
   "execution_count": 5,
   "metadata": {},
   "outputs": [
    {
     "name": "stdout",
     "output_type": "stream",
     "text": [
      "number of parameters is 15950\n",
      "Epoch 0: loss = 13074.67668, accuracy = 0.91120\n",
      "Epoch 1: loss = 7100.54748, accuracy = 0.95553\n",
      "Epoch 2: loss = 6016.52075, accuracy = 0.96440\n",
      "Epoch 3: loss = 5540.60053, accuracy = 0.96848\n",
      "Epoch 4: loss = 5314.61256, accuracy = 0.97135\n",
      "Epoch 5: loss = 5057.24207, accuracy = 0.97147\n"
     ]
    }
   ],
   "source": [
    "pyro.clear_param_store()\n",
    "bnn = BayesianCNNModel()\n",
    "bnn.fit(train_loader, optimizer_params={'lr': 0.02}, n_epochs=6)"
   ]
  },
  {
   "cell_type": "code",
   "execution_count": 6,
   "metadata": {},
   "outputs": [
    {
     "name": "stdout",
     "output_type": "stream",
     "text": [
      "accuracy is 0.96300\n"
     ]
    }
   ],
   "source": [
    "# Sample posterior distribution for testing data\n",
    "predictive = infer.Predictive(bnn, guide=bnn.guide, num_samples=1,\n",
    "                              return_sites=('obs',))\n",
    "def get_pred(x):\n",
    "    pred = predictive(X.unsqueeze(0))['obs'].flatten().mode().values.item()\n",
    "    return pred\n",
    "\n",
    "correct = 0\n",
    "total = 0\n",
    "\n",
    "for X, y in test_loader:\n",
    "    pred = get_pred(X)\n",
    "    if pred == y:\n",
    "        correct += 1\n",
    "    total += 1\n",
    "\n",
    "print(f'accuracy is {correct / total:.5f}')"
   ]
  },
  {
   "cell_type": "code",
   "execution_count": 7,
   "metadata": {},
   "outputs": [
    {
     "data": {
      "image/png": "[encoded data removed]",
      "text/plain": [
       "<Figure size 432x288 with 1 Axes>"
      ]
     },
     "metadata": {
      "needs_background": "light"
     },
     "output_type": "display_data"
    },
    {
     "name": "stdout",
     "output_type": "stream",
     "text": [
      "predicted: 7, actual: 7\n"
     ]
    }
   ],
   "source": [
    "# Show what output looks like with example value\n",
    "X, y = next(iter(test_loader))\n",
    "\n",
    "plt.imshow(X.squeeze())\n",
    "plt.show()\n",
    "\n",
    "pred = get_pred(X)\n",
    "print(f'predicted: {pred}, actual: {y}')"
   ]
  },
  {
   "cell_type": "markdown",
   "metadata": {},
   "source": [
    "Here I have not made use of the posterior sampling distributions for the parameters of the model -- I just wanted to demonstrate it was possible to make a Bayesian convolutional network. However, the model (and posterior prediction function) could easily be slightly modified to show distributions for parameters."
   ]
  }
 ],
 "metadata": {
  "kernelspec": {
   "display_name": "Python 3",
   "language": "python",
   "name": "python3"
  },
  "language_info": {
   "codemirror_mode": {
    "name": "ipython",
    "version": 3
   },
   "file_extension": ".py",
   "mimetype": "text/x-python",
   "name": "python",
   "nbconvert_exporter": "python",
   "pygments_lexer": "ipython3",
   "version": "3.7.4"
  }
 },
 "nbformat": 4,
 "nbformat_minor": 2
}
